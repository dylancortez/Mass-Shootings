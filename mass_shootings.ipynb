{
 "cells": [
  {
   "attachments": {},
   "cell_type": "markdown",
   "metadata": {},
   "source": [
    "Throughout modern American history, mass shootings have become an increasingly common phenomena to occur in public spaces. The FBI defines a mass shooting as \"Four or more shot and/or killed in a single event (incident), at the same general time and location, not including the shooter."
   ]
  },
  {
   "cell_type": "code",
   "execution_count": 2,
   "metadata": {},
   "outputs": [],
   "source": [
    "#First we will import the libraries we will be using to analyze the data\n",
    "import csv\n",
    "import pandas as pd\n",
    "import numpy as np"
   ]
  },
  {
   "attachments": {},
   "cell_type": "markdown",
   "metadata": {},
   "source": [
    "In order to explore our data, we will need to import it into using the Pandas \"read_csv\" method. We can also use the Head method in order to look at the first several rows of information in the dataset."
   ]
  },
  {
   "cell_type": "code",
   "execution_count": 8,
   "metadata": {},
   "outputs": [
    {
     "name": "stdout",
     "output_type": "stream",
     "text": [
      "   Incident ID      Incident Date       State City Or County  \\\n",
      "0      2482288  December 16, 2022    Illinois        Chicago   \n",
      "1      2482711  December 16, 2022   Tennessee        Memphis   \n",
      "2      2482119  December 15, 2022  California    Los Angeles   \n",
      "3      2480430  December 13, 2022    New York      Rochester   \n",
      "4      2479678  December 12, 2022    New York          Bronx   \n",
      "\n",
      "                        Address  # Killed  # Injured  Operations  \n",
      "0              2150 S Laflin St         2          2         NaN  \n",
      "1         831 Springdale Run Dr         0          5         NaN  \n",
      "2                  Florence Ave         0          4         NaN  \n",
      "3  Atlantic Ave and Illinois St         1          4         NaN  \n",
      "4                388 E 141st St         0          4         NaN  \n"
     ]
    }
   ],
   "source": [
    "#Reading the CSV file containing our data\n",
    "shootings_2022 = pd.read_csv(\"mass_shooting_data_2021.csv\")\n",
    "shootings_2020 = pd.read_csv(\"mass_shootings_2020.csv\")\n",
    "shootings_2019 = pd.read_csv(\"mass_shootings_2019.csv\")\n",
    "shootings_2018 = pd.read_csv(\"mass_shootings_2018.csv\")\n",
    "shootings_2017 = pd.read_csv(\"mass_shootings_2017.csv\")\n",
    "\n",
    "#Previewing information in the dataset\n",
    "print(shootings_2022.head())"
   ]
  },
  {
   "cell_type": "code",
   "execution_count": 9,
   "metadata": {},
   "outputs": [
    {
     "name": "stdout",
     "output_type": "stream",
     "text": [
      "   Incident ID      Incident Date          State City Or County  \\\n",
      "0      1891461  December 31, 2020        Indiana   Indianapolis   \n",
      "1      1890946  December 31, 2020         Oregon   Happy Valley   \n",
      "2      1886974  December 26, 2020       Illinois       Rockford   \n",
      "3      1886913  December 26, 2020        Florida          Tampa   \n",
      "4      1887059  December 26, 2020  Massachusetts           Lynn   \n",
      "\n",
      "                        Address  # Killed  # Injured  Operations  \n",
      "0          8215 Center Run Road         1          3         NaN  \n",
      "1   9200 block of SE Idleman Rd         0          4         NaN  \n",
      "2               4007 E State St         3          3         NaN  \n",
      "3       N 20th St and E 7th Ave         2          2         NaN  \n",
      "4  Washington St and Quincy Ter         1          5         NaN  \n"
     ]
    }
   ],
   "source": [
    "print(shootings_2020.head())"
   ]
  },
  {
   "cell_type": "code",
   "execution_count": 10,
   "metadata": {},
   "outputs": [
    {
     "name": "stdout",
     "output_type": "stream",
     "text": [
      "   Incident ID      Incident Date       State City Or County  \\\n",
      "0      1582816  December 29, 2019    Illinois       Danville   \n",
      "1      1582197  December 29, 2019    New York        Buffalo   \n",
      "2      1583444  December 29, 2019  California          Ceres   \n",
      "3      1581590  December 27, 2019  California        Modesto   \n",
      "4      1581103  December 27, 2019       Texas        Houston   \n",
      "\n",
      "                      Address  # Killed  # Injured  Operations  \n",
      "0  1803 block of Westview Ave         0          5         NaN  \n",
      "1   50 block of Henrietta Ave         1          3         NaN  \n",
      "2   800 block of Allacante Dr         0          5         NaN  \n",
      "3    1900 block of Vernon Ave         1          3         NaN  \n",
      "4       500 block of Smart St         2          7         NaN  \n"
     ]
    }
   ],
   "source": [
    "print(shootings_2019.head())"
   ]
  },
  {
   "cell_type": "code",
   "execution_count": 11,
   "metadata": {},
   "outputs": [
    {
     "name": "stdout",
     "output_type": "stream",
     "text": [
      "   Incident ID      Incident Date      State City Or County  \\\n",
      "0      1289686  December 31, 2018       Ohio      Cleveland   \n",
      "1      1288376  December 29, 2018       Ohio           Lima   \n",
      "2      1287286  December 28, 2018   Missouri  Saint Charles   \n",
      "3      1284586  December 24, 2018  Louisiana        Lutcher   \n",
      "4      1283229  December 23, 2018   Missouri    Springfield   \n",
      "\n",
      "             Address  # Killed  # Injured  Operations  \n",
      "0   4462 Denison Ave         3          2         NaN  \n",
      "1      904 S Main St         1          3         NaN  \n",
      "2   150 Whetstone Dr         4          1         NaN  \n",
      "3       2176 Main St         2          2         NaN  \n",
      "4  1042 W College St         1          6         NaN  \n"
     ]
    }
   ],
   "source": [
    "print(shootings_2018.head())"
   ]
  },
  {
   "cell_type": "code",
   "execution_count": 12,
   "metadata": {},
   "outputs": [
    {
     "name": "stdout",
     "output_type": "stream",
     "text": [
      "   Incident ID      Incident Date       State               City Or County  \\\n",
      "0      1017372  December 31, 2017    Colorado  Littleton (Highlands Ranch)   \n",
      "1      1017422  December 31, 2017    Illinois                      Chicago   \n",
      "2      1018118  December 31, 2017  New Jersey                  Long Branch   \n",
      "3      1015666  December 27, 2017      Nevada                    Las Vegas   \n",
      "4      1015336  December 26, 2017     Florida                        Miami   \n",
      "\n",
      "                    Address  # Killed  # Injured  Operations  \n",
      "0     3404 E County Line Rd         2          6         NaN  \n",
      "1            2335 Howard St         0          4         NaN  \n",
      "2               635 Wall St         4          0         NaN  \n",
      "3         3750 E Bonanza Rd         2          2         NaN  \n",
      "4  NW 18th Ave and 86th Ter         0          5         NaN  \n"
     ]
    }
   ],
   "source": [
    "print(shootings_2017.head())"
   ]
  },
  {
   "attachments": {},
   "cell_type": "markdown",
   "metadata": {},
   "source": [
    "Immediately, we can see that the only complete year where there were no mass shootings on New Year's Eve (December 31st) was in 2019. We do not count the most recent, since that goes over the most recent data from 2022."
   ]
  }
 ],
 "metadata": {
  "kernelspec": {
   "display_name": "Python 3",
   "language": "python",
   "name": "python3"
  },
  "language_info": {
   "codemirror_mode": {
    "name": "ipython",
    "version": 3
   },
   "file_extension": ".py",
   "mimetype": "text/x-python",
   "name": "python",
   "nbconvert_exporter": "python",
   "pygments_lexer": "ipython3",
   "version": "3.11.1"
  },
  "orig_nbformat": 4,
  "vscode": {
   "interpreter": {
    "hash": "841b185554555ca1ca178be24c38857c2b72fe74f8a7d4209f77b3f65f0ea57b"
   }
  }
 },
 "nbformat": 4,
 "nbformat_minor": 2
}
