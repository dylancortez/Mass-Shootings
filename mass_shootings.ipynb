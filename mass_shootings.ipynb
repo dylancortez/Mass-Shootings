{
 "cells": [
  {
   "attachments": {},
   "cell_type": "markdown",
   "metadata": {},
   "source": [
    "Throughout modern American history, mass shootings have become an increasingly common phenomena to occur in public spaces. The FBI defines a mass shooting as \"Four or more shot and/or killed in a single event (incident), at the same general time and location, not including the shooter."
   ]
  },
  {
   "cell_type": "code",
   "execution_count": 15,
   "metadata": {},
   "outputs": [],
   "source": [
    "#First we will import the libraries we will be using to analyze the data\n",
    "import csv\n",
    "import pandas as pd\n",
    "import numpy as np"
   ]
  },
  {
   "attachments": {},
   "cell_type": "markdown",
   "metadata": {},
   "source": [
    "In order to explore our data, we will need to import it into using the Pandas \"read_csv\" method. We can also use the Head method in order to look at the first several rows of information in the dataset."
   ]
  },
  {
   "cell_type": "code",
   "execution_count": 16,
   "metadata": {},
   "outputs": [
    {
     "name": "stdout",
     "output_type": "stream",
     "text": [
      "   Incident ID      Incident Date       State City Or County  \\\n",
      "0      2482288  December 16, 2022    Illinois        Chicago   \n",
      "1      2482711  December 16, 2022   Tennessee        Memphis   \n",
      "2      2482119  December 15, 2022  California    Los Angeles   \n",
      "3      2480430  December 13, 2022    New York      Rochester   \n",
      "4      2479678  December 12, 2022    New York          Bronx   \n",
      "\n",
      "                        Address  # Killed  # Injured  Operations  \n",
      "0              2150 S Laflin St         2          2         NaN  \n",
      "1         831 Springdale Run Dr         0          5         NaN  \n",
      "2                  Florence Ave         0          4         NaN  \n",
      "3  Atlantic Ave and Illinois St         1          4         NaN  \n",
      "4                388 E 141st St         0          4         NaN  \n"
     ]
    }
   ],
   "source": [
    "#Reading the CSV file containing our data\n",
    "shootings_2022 = pd.read_csv(\"mass_shootings_2022.csv\")\n",
    "shootings_2020 = pd.read_csv(\"mass_shootings_2020.csv\")\n",
    "shootings_2019 = pd.read_csv(\"mass_shootings_2019.csv\")\n",
    "shootings_2018 = pd.read_csv(\"mass_shootings_2018.csv\")\n",
    "shootings_2017 = pd.read_csv(\"mass_shootings_2017.csv\")\n",
    "\n",
    "#Previewing information in the dataset\n",
    "print(shootings_2022.head())"
   ]
  },
  {
   "cell_type": "code",
   "execution_count": 17,
   "metadata": {},
   "outputs": [
    {
     "name": "stdout",
     "output_type": "stream",
     "text": [
      "   Incident ID      Incident Date       State City Or County  \\\n",
      "0      1582816  December 29, 2019    Illinois       Danville   \n",
      "1      1582197  December 29, 2019    New York        Buffalo   \n",
      "2      1583444  December 29, 2019  California          Ceres   \n",
      "3      1581590  December 27, 2019  California        Modesto   \n",
      "4      1581103  December 27, 2019       Texas        Houston   \n",
      "\n",
      "                      Address  # Killed  # Injured  Operations  \n",
      "0  1803 block of Westview Ave         0          5         NaN  \n",
      "1   50 block of Henrietta Ave         1          3         NaN  \n",
      "2   800 block of Allacante Dr         0          5         NaN  \n",
      "3    1900 block of Vernon Ave         1          3         NaN  \n",
      "4       500 block of Smart St         2          7         NaN  \n"
     ]
    }
   ],
   "source": [
    "print(shootings_2019.head())"
   ]
  },
  {
   "cell_type": "code",
   "execution_count": 18,
   "metadata": {},
   "outputs": [
    {
     "name": "stdout",
     "output_type": "stream",
     "text": [
      "   Incident ID      Incident Date       State City Or County  \\\n",
      "0      1582816  December 29, 2019    Illinois       Danville   \n",
      "1      1582197  December 29, 2019    New York        Buffalo   \n",
      "2      1583444  December 29, 2019  California          Ceres   \n",
      "3      1581590  December 27, 2019  California        Modesto   \n",
      "4      1581103  December 27, 2019       Texas        Houston   \n",
      "\n",
      "                      Address  # Killed  # Injured  Operations  \n",
      "0  1803 block of Westview Ave         0          5         NaN  \n",
      "1   50 block of Henrietta Ave         1          3         NaN  \n",
      "2   800 block of Allacante Dr         0          5         NaN  \n",
      "3    1900 block of Vernon Ave         1          3         NaN  \n",
      "4       500 block of Smart St         2          7         NaN  \n"
     ]
    }
   ],
   "source": [
    "print(shootings_2019.head())"
   ]
  },
  {
   "cell_type": "code",
   "execution_count": 19,
   "metadata": {},
   "outputs": [
    {
     "name": "stdout",
     "output_type": "stream",
     "text": [
      "   Incident ID      Incident Date      State City Or County  \\\n",
      "0      1289686  December 31, 2018       Ohio      Cleveland   \n",
      "1      1288376  December 29, 2018       Ohio           Lima   \n",
      "2      1287286  December 28, 2018   Missouri  Saint Charles   \n",
      "3      1284586  December 24, 2018  Louisiana        Lutcher   \n",
      "4      1283229  December 23, 2018   Missouri    Springfield   \n",
      "\n",
      "             Address  # Killed  # Injured  Operations  \n",
      "0   4462 Denison Ave         3          2         NaN  \n",
      "1      904 S Main St         1          3         NaN  \n",
      "2   150 Whetstone Dr         4          1         NaN  \n",
      "3       2176 Main St         2          2         NaN  \n",
      "4  1042 W College St         1          6         NaN  \n"
     ]
    }
   ],
   "source": [
    "print(shootings_2018.head())"
   ]
  },
  {
   "cell_type": "code",
   "execution_count": 20,
   "metadata": {},
   "outputs": [
    {
     "name": "stdout",
     "output_type": "stream",
     "text": [
      "   Incident ID      Incident Date       State               City Or County  \\\n",
      "0      1017372  December 31, 2017    Colorado  Littleton (Highlands Ranch)   \n",
      "1      1017422  December 31, 2017    Illinois                      Chicago   \n",
      "2      1018118  December 31, 2017  New Jersey                  Long Branch   \n",
      "3      1015666  December 27, 2017      Nevada                    Las Vegas   \n",
      "4      1015336  December 26, 2017     Florida                        Miami   \n",
      "\n",
      "                    Address  # Killed  # Injured  Operations  \n",
      "0     3404 E County Line Rd         2          6         NaN  \n",
      "1            2335 Howard St         0          4         NaN  \n",
      "2               635 Wall St         4          0         NaN  \n",
      "3         3750 E Bonanza Rd         2          2         NaN  \n",
      "4  NW 18th Ave and 86th Ter         0          5         NaN  \n"
     ]
    }
   ],
   "source": [
    "print(shootings_2017.head())"
   ]
  },
  {
   "attachments": {},
   "cell_type": "markdown",
   "metadata": {},
   "source": [
    "Immediately, we can see that the only complete year where there were no mass shootings on New Year's Eve (December 31st) was in 2019. We do not count the most recent, since that goes over the most recent data from 2022.\n",
    "\n",
    "Now let us look at the records for mass shootings throughout these past six years, and see in what month we had the highest frequency of attacks for each year."
   ]
  },
  {
   "cell_type": "code",
   "execution_count": 21,
   "metadata": {},
   "outputs": [
    {
     "name": "stdout",
     "output_type": "stream",
     "text": [
      "28\n",
      "29\n",
      "31\n",
      "52\n",
      "56\n",
      "46\n",
      "69\n",
      "50\n",
      "48\n",
      "48\n",
      "34\n",
      "7\n"
     ]
    }
   ],
   "source": [
    "#Sort tables by month, starting with January\n",
    "num_shootings_jan_2022 = shootings_2022[(shootings_2022[\"Incident Date\"] >= \"January 1, 2022\") & (shootings_2022[\"Incident Date\"] <= \"January 31, 2022\")]\n",
    "print(len(num_shootings_jan_2022))\n",
    "\n",
    "num_shootings_feb_2022 = shootings_2022[(shootings_2022[\"Incident Date\"] >= \"February 1, 2022\") & (shootings_2022[\"Incident Date\"] <= \"February 28, 2022\")]\n",
    "print(len(num_shootings_feb_2022))\n",
    "\n",
    "num_shootings_mar_2022 = shootings_2022[(shootings_2022[\"Incident Date\"] >= \"March 1, 2022\") & (shootings_2022[\"Incident Date\"] <= \"March 31, 2022\")]\n",
    "print(len(num_shootings_mar_2022))\n",
    "\n",
    "num_shootings_apr_2022 = shootings_2022[(shootings_2022[\"Incident Date\"] >= \"April 1, 2022\") & (shootings_2022[\"Incident Date\"] <= \"April 30, 2022\")]\n",
    "print(len(num_shootings_apr_2022))\n",
    "\n",
    "num_shootings_may_2022 = shootings_2022[(shootings_2022[\"Incident Date\"] >= \"May 1, 2022\") & (shootings_2022[\"Incident Date\"] <= \"May 31, 2022\")]\n",
    "print(len(num_shootings_may_2022))\n",
    "\n",
    "num_shootings_jun_2022 = shootings_2022[(shootings_2022[\"Incident Date\"] >= \"June 1, 2022\") & (shootings_2022[\"Incident Date\"] <= \"June 30, 2022\")]\n",
    "print(len(num_shootings_jun_2022))\n",
    "\n",
    "num_shootings_jul_2022 = shootings_2022[(shootings_2022[\"Incident Date\"] >= \"July 1, 2022\") & (shootings_2022[\"Incident Date\"] <= \"July 31, 2022\")]\n",
    "print(len(num_shootings_jul_2022))\n",
    "\n",
    "num_shootings_aug_2022 = shootings_2022[(shootings_2022[\"Incident Date\"] >= \"August 1, 2022\") & (shootings_2022[\"Incident Date\"] <= \"August 31, 2022\")]\n",
    "print(len(num_shootings_aug_2022))\n",
    "\n",
    "num_shootings_sep_2022 = shootings_2022[(shootings_2022[\"Incident Date\"] >= \"September 1, 2022\") & (shootings_2022[\"Incident Date\"] <= \"September 30, 2022\")]\n",
    "print(len(num_shootings_sep_2022))\n",
    "\n",
    "num_shootings_oct_2022 = shootings_2022[(shootings_2022[\"Incident Date\"] >= \"October 1, 2022\") & (shootings_2022[\"Incident Date\"] <= \"October 31, 2022\")]\n",
    "print(len(num_shootings_oct_2022))\n",
    "\n",
    "num_shootings_nov_2022 = shootings_2022[(shootings_2022[\"Incident Date\"] >= \"November 1, 2022\") & (shootings_2022[\"Incident Date\"] <= \"November 30, 2022\")]\n",
    "print(len(num_shootings_nov_2022))\n",
    "\n",
    "num_shootings_dec_2022 = shootings_2022[(shootings_2022[\"Incident Date\"] >= \"December 1, 2022\") & (shootings_2022[\"Incident Date\"] <= \"December 31, 2022\")]\n",
    "print(len(num_shootings_dec_2022))"
   ]
  },
  {
   "attachments": {},
   "cell_type": "markdown",
   "metadata": {},
   "source": [
    "From this data, we can see that in 2022, July was the month with the most frequent mass shootings in the nation. Let us see if this is comparable to the years prior."
   ]
  },
  {
   "cell_type": "code",
   "execution_count": 22,
   "metadata": {},
   "outputs": [
    {
     "name": "stdout",
     "output_type": "stream",
     "text": [
      "22\n",
      "14\n",
      "17\n",
      "16\n",
      "54\n",
      "77\n",
      "62\n",
      "62\n",
      "50\n",
      "45\n",
      "41\n",
      "20\n"
     ]
    }
   ],
   "source": [
    "num_shootings_jan_2020 = shootings_2020[(shootings_2020[\"Incident Date\"] >= \"January 1, 2020\") & (shootings_2020[\"Incident Date\"] <= \"January 31, 2020\")]\n",
    "print(len(num_shootings_jan_2020))\n",
    "\n",
    "num_shootings_feb_2020 = shootings_2020[(shootings_2020[\"Incident Date\"] >= \"February 1, 2020\") & (shootings_2020[\"Incident Date\"] <= \"February 28, 2020\")]\n",
    "print(len(num_shootings_feb_2020))\n",
    "\n",
    "num_shootings_mar_2020 = shootings_2020[(shootings_2020[\"Incident Date\"] >= \"March 1, 2020\") & (shootings_2020[\"Incident Date\"] <= \"March 31, 2020\")]\n",
    "print(len(num_shootings_mar_2020))\n",
    "\n",
    "num_shootings_apr_2020 = shootings_2020[(shootings_2020[\"Incident Date\"] >= \"April 1, 2020\") & (shootings_2020[\"Incident Date\"] <= \"April 30, 2020\")]\n",
    "print(len(num_shootings_apr_2020))\n",
    "\n",
    "num_shootings_may_2020 = shootings_2020[(shootings_2020[\"Incident Date\"] >= \"May 1, 2029\") & (shootings_2020[\"Incident Date\"] <= \"May 31, 2020\")]\n",
    "print(len(num_shootings_may_2020))\n",
    "\n",
    "num_shootings_jun_2020 = shootings_2020[(shootings_2020[\"Incident Date\"] >= \"June 1, 2020\") & (shootings_2020[\"Incident Date\"] <= \"June 30, 2020\")]\n",
    "print(len(num_shootings_jun_2020))\n",
    "\n",
    "num_shootings_jul_2020 = shootings_2020[(shootings_2020[\"Incident Date\"] >= \"July 1, 2020\") & (shootings_2020[\"Incident Date\"] <= \"July 31, 2020\")]\n",
    "print(len(num_shootings_jul_2020))\n",
    "\n",
    "num_shootings_aug_2020 = shootings_2020[(shootings_2020[\"Incident Date\"] >= \"August 1, 2020\") & (shootings_2020[\"Incident Date\"] <= \"August 31, 2020\")]\n",
    "print(len(num_shootings_aug_2020))\n",
    "\n",
    "num_shootings_sep_2020 = shootings_2020[(shootings_2020[\"Incident Date\"] >= \"September 1, 2020\") & (shootings_2020[\"Incident Date\"] <= \"September 30, 2020\")]\n",
    "print(len(num_shootings_sep_2020))\n",
    "\n",
    "num_shootings_oct_2020 = shootings_2020[(shootings_2020[\"Incident Date\"] >= \"October 1, 2020\") & (shootings_2020[\"Incident Date\"] <= \"October 31, 2020\")]\n",
    "print(len(num_shootings_oct_2020))\n",
    "\n",
    "num_shootings_nov_2020 = shootings_2020[(shootings_2020[\"Incident Date\"] >= \"November 1, 2020\") & (shootings_2020[\"Incident Date\"] <= \"November 30, 2020\")]\n",
    "print(len(num_shootings_nov_2020))\n",
    "\n",
    "num_shootings_dec_2020 = shootings_2020[(shootings_2020[\"Incident Date\"] >= \"December 1, 2020\") & (shootings_2020[\"Incident Date\"] <= \"December 31, 2020\")]\n",
    "print(len(num_shootings_dec_2020))"
   ]
  },
  {
   "attachments": {},
   "cell_type": "markdown",
   "metadata": {},
   "source": [
    "According to the data from 2020, while July did tie with August for the second-highest number of mass shootings, June actually leads 2020's shooting count with 77 separate mass shootings across the country. Let's continue looking through this to see if the trend for having most shootings occur during the summer continues."
   ]
  },
  {
   "cell_type": "code",
   "execution_count": 23,
   "metadata": {},
   "outputs": [
    {
     "name": "stdout",
     "output_type": "stream",
     "text": [
      "24\n",
      "13\n",
      "20\n",
      "23\n",
      "40\n",
      "45\n",
      "26\n",
      "32\n",
      "30\n",
      "27\n",
      "27\n",
      "30\n"
     ]
    }
   ],
   "source": [
    "num_shootings_jan_2019 = shootings_2019[(shootings_2019[\"Incident Date\"] >= \"January 1, 2019\") & (shootings_2019[\"Incident Date\"] <= \"January 31, 2019\")]\n",
    "print(len(num_shootings_jan_2019))\n",
    "\n",
    "num_shootings_feb_2019 = shootings_2019[(shootings_2019[\"Incident Date\"] >= \"February 1, 2019\") & (shootings_2019[\"Incident Date\"] <= \"February 28, 2019\")]\n",
    "print(len(num_shootings_feb_2019))\n",
    "\n",
    "num_shootings_mar_2019 = shootings_2019[(shootings_2019[\"Incident Date\"] >= \"March 1, 2019\") & (shootings_2019[\"Incident Date\"] <= \"March 31, 2019\")]\n",
    "print(len(num_shootings_mar_2019))\n",
    "\n",
    "num_shootings_apr_2019 = shootings_2019[(shootings_2019[\"Incident Date\"] >= \"April 1, 2019\") & (shootings_2019[\"Incident Date\"] <= \"April 30, 2019\")]\n",
    "print(len(num_shootings_apr_2019))\n",
    "\n",
    "num_shootings_may_2019 = shootings_2019[(shootings_2019[\"Incident Date\"] >= \"May 1, 2019\") & (shootings_2019[\"Incident Date\"] <= \"May 31, 2019\")]\n",
    "print(len(num_shootings_may_2019))\n",
    "\n",
    "num_shootings_jun_2019 = shootings_2019[(shootings_2019[\"Incident Date\"] >= \"June 1, 2019\") & (shootings_2019[\"Incident Date\"] <= \"June 30, 2019\")]\n",
    "print(len(num_shootings_jun_2019))\n",
    "\n",
    "num_shootings_jul_2019 = shootings_2019[(shootings_2019[\"Incident Date\"] >= \"July 1, 2019\") & (shootings_2019[\"Incident Date\"] <= \"July 31, 2019\")]\n",
    "print(len(num_shootings_jul_2019))\n",
    "\n",
    "num_shootings_aug_2019 = shootings_2019[(shootings_2019[\"Incident Date\"] >= \"August 1, 2019\") & (shootings_2019[\"Incident Date\"] <= \"August 31, 2019\")]\n",
    "print(len(num_shootings_aug_2019))\n",
    "\n",
    "num_shootings_sep_2019 = shootings_2019[(shootings_2019[\"Incident Date\"] >= \"September 1, 2019\") & (shootings_2019[\"Incident Date\"] <= \"September 30, 2019\")]\n",
    "print(len(num_shootings_sep_2019))\n",
    "\n",
    "num_shootings_oct_2019 = shootings_2019[(shootings_2019[\"Incident Date\"] >= \"October 1, 2019\") & (shootings_2019[\"Incident Date\"] <= \"October 31, 2019\")]\n",
    "print(len(num_shootings_oct_2019))\n",
    "\n",
    "num_shootings_nov_2019 = shootings_2019[(shootings_2019[\"Incident Date\"] >= \"November 1, 2019\") & (shootings_2019[\"Incident Date\"] <= \"November 30, 2019\")]\n",
    "print(len(num_shootings_nov_2019))\n",
    "\n",
    "num_shootings_dec_2019 = shootings_2019[(shootings_2019[\"Incident Date\"] >= \"December 1, 2019\") & (shootings_2019[\"Incident Date\"] <= \"December 31, 2019\")]\n",
    "print(len(num_shootings_dec_2019))"
   ]
  },
  {
   "cell_type": "code",
   "execution_count": 24,
   "metadata": {},
   "outputs": [
    {
     "name": "stdout",
     "output_type": "stream",
     "text": [
      "18\n",
      "11\n",
      "14\n",
      "19\n",
      "20\n",
      "47\n",
      "34\n",
      "23\n",
      "28\n",
      "24\n",
      "20\n",
      "12\n"
     ]
    }
   ],
   "source": [
    "num_shootings_jan_2018 = shootings_2018[(shootings_2018[\"Incident Date\"] >= \"January 1, 2018\") & (shootings_2018[\"Incident Date\"] <= \"January 31, 2018\")]\n",
    "print(len(num_shootings_jan_2018))\n",
    "\n",
    "num_shootings_feb_2018 = shootings_2018[(shootings_2018[\"Incident Date\"] >= \"February 1, 2018\") & (shootings_2018[\"Incident Date\"] <= \"February 28, 2018\")]\n",
    "print(len(num_shootings_feb_2018))\n",
    "\n",
    "num_shootings_mar_2018 = shootings_2018[(shootings_2018[\"Incident Date\"] >= \"March 1, 2018\") & (shootings_2018[\"Incident Date\"] <= \"March 31, 2018\")]\n",
    "print(len(num_shootings_mar_2018))\n",
    "\n",
    "num_shootings_apr_2018 = shootings_2018[(shootings_2018[\"Incident Date\"] >= \"April 1, 2018\") & (shootings_2018[\"Incident Date\"] <= \"April 30, 2018\")]\n",
    "print(len(num_shootings_apr_2018))\n",
    "\n",
    "num_shootings_may_2018 = shootings_2018[(shootings_2018[\"Incident Date\"] >= \"May 1, 2018\") & (shootings_2018[\"Incident Date\"] <= \"May 31, 2018\")]\n",
    "print(len(num_shootings_may_2018))\n",
    "\n",
    "num_shootings_jun_2018 = shootings_2018[(shootings_2018[\"Incident Date\"] >= \"June 1, 2018\") & (shootings_2018[\"Incident Date\"] <= \"June 30, 2018\")]\n",
    "print(len(num_shootings_jun_2018))\n",
    "\n",
    "num_shootings_jul_2018 = shootings_2018[(shootings_2018[\"Incident Date\"] >= \"July 1, 2018\") & (shootings_2018[\"Incident Date\"] <= \"July 31, 2018\")]\n",
    "print(len(num_shootings_jul_2018))\n",
    "\n",
    "num_shootings_aug_2018 = shootings_2018[(shootings_2018[\"Incident Date\"] >= \"August 1, 2018\") & (shootings_2018[\"Incident Date\"] <= \"August 31, 2018\")]\n",
    "print(len(num_shootings_aug_2018))\n",
    "\n",
    "num_shootings_sep_2018 = shootings_2018[(shootings_2018[\"Incident Date\"] >= \"September 1, 2018\") & (shootings_2018[\"Incident Date\"] <= \"September 30, 2018\")]\n",
    "print(len(num_shootings_sep_2018))\n",
    "\n",
    "num_shootings_oct_2018 = shootings_2018[(shootings_2018[\"Incident Date\"] >= \"October 1, 2018\") & (shootings_2018[\"Incident Date\"] <= \"October 31, 2018\")]\n",
    "print(len(num_shootings_oct_2018))\n",
    "\n",
    "num_shootings_nov_2018 = shootings_2018[(shootings_2018[\"Incident Date\"] >= \"November 1, 2018\") & (shootings_2018[\"Incident Date\"] <= \"November 30, 2018\")]\n",
    "print(len(num_shootings_nov_2018))\n",
    "\n",
    "num_shootings_dec_2018 = shootings_2018[(shootings_2018[\"Incident Date\"] >= \"December 1, 2018\") & (shootings_2018[\"Incident Date\"] <= \"December 31, 2018\")]\n",
    "print(len(num_shootings_dec_2018))"
   ]
  },
  {
   "cell_type": "code",
   "execution_count": 25,
   "metadata": {},
   "outputs": [
    {
     "name": "stdout",
     "output_type": "stream",
     "text": [
      "26\n",
      "12\n",
      "18\n",
      "32\n",
      "20\n",
      "31\n",
      "26\n",
      "25\n",
      "27\n",
      "23\n",
      "19\n",
      "15\n"
     ]
    }
   ],
   "source": [
    "num_shootings_jan_2017 = shootings_2017[(shootings_2017[\"Incident Date\"] >= \"January 0, 2017\") & (shootings_2017[\"Incident Date\"] <= \"January 30, 2017\")]\n",
    "print(len(num_shootings_jan_2017))\n",
    "\n",
    "num_shootings_feb_2017 = shootings_2017[(shootings_2017[\"Incident Date\"] >= \"February 0, 2017\") & (shootings_2017[\"Incident Date\"] <= \"February 20, 2017\")]\n",
    "print(len(num_shootings_feb_2017))\n",
    "\n",
    "num_shootings_mar_2017 = shootings_2017[(shootings_2017[\"Incident Date\"] >= \"March 0, 2017\") & (shootings_2017[\"Incident Date\"] <= \"March 30, 2017\")]\n",
    "print(len(num_shootings_mar_2017))\n",
    "\n",
    "num_shootings_apr_2017 = shootings_2017[(shootings_2017[\"Incident Date\"] >= \"April 0, 2017\") & (shootings_2017[\"Incident Date\"] <= \"April 30, 2017\")]\n",
    "print(len(num_shootings_apr_2017))\n",
    "\n",
    "num_shootings_may_2017 = shootings_2017[(shootings_2017[\"Incident Date\"] >= \"May 0, 2017\") & (shootings_2017[\"Incident Date\"] <= \"May 30, 2017\")]\n",
    "print(len(num_shootings_may_2017))\n",
    "\n",
    "num_shootings_jun_2017 = shootings_2017[(shootings_2017[\"Incident Date\"] >= \"June 0, 2017\") & (shootings_2017[\"Incident Date\"] <= \"June 30, 2017\")]\n",
    "print(len(num_shootings_jun_2017))\n",
    "\n",
    "num_shootings_jul_2017 = shootings_2017[(shootings_2017[\"Incident Date\"] >= \"July 0, 2017\") & (shootings_2017[\"Incident Date\"] <= \"July 30, 2017\")]\n",
    "print(len(num_shootings_jul_2017))\n",
    "\n",
    "num_shootings_aug_2017 = shootings_2017[(shootings_2017[\"Incident Date\"] >= \"August 0, 2017\") & (shootings_2017[\"Incident Date\"] <= \"August 30, 2017\")]\n",
    "print(len(num_shootings_aug_2017))\n",
    "\n",
    "num_shootings_sep_2017 = shootings_2017[(shootings_2017[\"Incident Date\"] >= \"September 0, 2017\") & (shootings_2017[\"Incident Date\"] <= \"September 30, 2017\")]\n",
    "print(len(num_shootings_sep_2017))\n",
    "\n",
    "num_shootings_oct_2017 = shootings_2017[(shootings_2017[\"Incident Date\"] >= \"October 0, 2017\") & (shootings_2017[\"Incident Date\"] <= \"October 30, 2017\")]\n",
    "print(len(num_shootings_oct_2017))\n",
    "\n",
    "num_shootings_nov_2017 = shootings_2017[(shootings_2017[\"Incident Date\"] >= \"November 0, 2017\") & (shootings_2017[\"Incident Date\"] <= \"November 30, 2017\")]\n",
    "print(len(num_shootings_nov_2017))\n",
    "\n",
    "num_shootings_dec_2017 = shootings_2017[(shootings_2017[\"Incident Date\"] >= \"December 0, 2017\") & (shootings_2017[\"Incident Date\"] <= \"December 30, 2017\")]\n",
    "print(len(num_shootings_dec_2017))"
   ]
  },
  {
   "attachments": {},
   "cell_type": "markdown",
   "metadata": {},
   "source": [
    "After looking through all of the prior years, it seems that the most of the past several years have had their most attacks in one period during June. There could be many different reasons for this, though one theory could that this is the time that more Americans are taking their annual holiday trips, and it is a common time for people to take off work for a prolonged period of time."
   ]
  }
 ],
 "metadata": {
  "kernelspec": {
   "display_name": "Python 3",
   "language": "python",
   "name": "python3"
  },
  "language_info": {
   "codemirror_mode": {
    "name": "ipython",
    "version": 3
   },
   "file_extension": ".py",
   "mimetype": "text/x-python",
   "name": "python",
   "nbconvert_exporter": "python",
   "pygments_lexer": "ipython3",
   "version": "3.11.1"
  },
  "orig_nbformat": 4,
  "vscode": {
   "interpreter": {
    "hash": "841b185554555ca1ca178be24c38857c2b72fe74f8a7d4209f77b3f65f0ea57b"
   }
  }
 },
 "nbformat": 4,
 "nbformat_minor": 2
}
